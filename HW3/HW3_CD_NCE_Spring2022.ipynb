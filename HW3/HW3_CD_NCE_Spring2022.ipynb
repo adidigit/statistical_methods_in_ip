{
 "cells": [
  {
   "cell_type": "markdown",
   "metadata": {
    "id": "uXrAM0RgCgl8"
   },
   "source": [
    "# Statistical Methods in Image Processing EE-048954\n",
    "## Homework 3: Contrastive Divergence and Noise Contrastive Estimation\n",
    "### Due Date: <span style=\"color:red\">June 16, 2022</span>"
   ]
  },
  {
   "cell_type": "markdown",
   "metadata": {},
   "source": [
    "###  Submission Guidelines\n",
    "\n",
    "* Submission only in **pairs** on the course website (Moodle).\n",
    "* Working environment:\n",
    "    * We encourage you to work in `Jupyter Notebook` online using <a href=\"https://colab.research.google.com/\">Google Colab</a> as it does not require any installation.\n",
    "* You should submit two **separated** files:\n",
    "    * A `.ipynb` file, with the name: `ee048954_hw3_id1_id2.ipynb` which contains your code implementations.\n",
    "    * A `.pdf` file, with the name: `ee048954_hw3_id1_id2.pdf` which is your report containing plots, answers, and discussions.\n",
    "    * **No handwritten submissions** and no other file-types (`.docx`, `.html`, ...) will be accepted."
   ]
  },
  {
   "cell_type": "markdown",
   "metadata": {
    "id": "aXYdlXNS4c6V"
   },
   "source": [
    "### Mounting your drive for saving/loading stuff"
   ]
  },
  {
   "cell_type": "code",
   "execution_count": null,
   "metadata": {
    "colab": {
     "base_uri": "https://localhost:8080/"
    },
    "id": "VtmwdpfGMmjD",
    "outputId": "bd97d2b8-531f-486b-c5f7-8ccab95baec3"
   },
   "outputs": [],
   "source": [
    "#from google.colab import drive\n",
    "#drive.mount('/content/drive')"
   ]
  },
  {
   "cell_type": "markdown",
   "metadata": {
    "id": "kXPsd-7TgsCN"
   },
   "source": [
    "### Importing relevant libraries"
   ]
  },
  {
   "cell_type": "code",
   "execution_count": 423,
   "metadata": {
    "id": "XFz780qygx3J"
   },
   "outputs": [],
   "source": [
    "## Standard libraries\n",
    "import os\n",
    "import math\n",
    "import time\n",
    "import numpy as np\n",
    "import random\n",
    "import copy\n",
    "\n",
    "## Scipy optimization routines\n",
    "from scipy.optimize import minimize\n",
    "\n",
    "## Progress bar\n",
    "import tqdm\n",
    "\n",
    "## Imports for plotting\n",
    "import matplotlib.pyplot as plt\n",
    "import matplotlib.animation as animation\n",
    "%matplotlib inline\n",
    "import matplotlib\n",
    "matplotlib.rcParams['lines.linewidth'] = 2.0\n",
    "plt.style.use('ggplot')"
   ]
  },
  {
   "cell_type": "markdown",
   "metadata": {
    "id": "6BxH6tQygjiN"
   },
   "source": [
    "## Part I: Contrastive Divergence (50 points)"
   ]
  },
  {
   "cell_type": "markdown",
   "metadata": {},
   "source": [
    "Consider the following Gaussian Mixture Model (GMM) distribution\n",
    "\n",
    "$$ p(x;\\{\\mu_i\\}) = \\sum_{i=1}^{N}\\frac{1}{N}\\,\\frac{1}{{{2\\pi}}} \\exp\\left\\{-\\frac{1}{2}||x-\\mu_i||^2\\right\\} ,$$\t\n",
    "where $x,\\mu_i \\in \\mathbb{R}^2$. We will use $N = 4$, $\\sigma = 1$, and $\\{\\mu_i\\} = \\{(0,0)^T , (0,3)^T , (3,0)^T , (3,3)^T\\}$."
   ]
  },
  {
   "cell_type": "markdown",
   "metadata": {},
   "source": [
    "#### Sampling from GMM"
   ]
  },
  {
   "cell_type": "markdown",
   "metadata": {},
   "source": [
    "<img src=\"https://img.icons8.com/offices/80/000000/making-notes.png\" style=\"height:30px;display:inline\\\">**<span style=\"color:red\">Task 1</span>**. Direct sampling: Use your function from HW1 that accepts $\\{\\mu_i\\}$, and returns a sample $x$ from $p(x;\\{\\mu_i\\})$. Draw $J=1000$ samples $\\{x\\}$ from the distribution $p(x;\\{\\mu_i\\})$ using this function. These will be our **real samples**.\n",
    "\n",
    "<img src=\"https://img.icons8.com/offices/80/000000/making-notes.png\" style=\"height:30px;display:inline\\\">**<span style=\"color:red\">Task 2</span>**. Sampling with MCMC: implement the MALA algorithm to draw samples from $p(x;\\{\\mu_i\\})$. The function will get an initial guess $\\{\\hat x_i\\}$ and will generate chains of length $L$. Use $\\sqrt{2\\varepsilon} = 0.1$ and $N \\sim \\mathcal{N}(0,I)$.\n",
    "\n",
    "**From now on**, we will refer to **$\\{\\mu_i\\}$ as unknowns** and we will estimate them using different algorithms."
   ]
  },
  {
   "cell_type": "code",
   "execution_count": 433,
   "metadata": {},
   "outputs": [],
   "source": [
    "#Task 1\n",
    "from scipy.stats import multivariate_normal as mv_normal\n",
    "import torch\n",
    "def sample_from_gaussian_mixture(M,sigma_2,miu_m,N):\n",
    "    \"\"\"\n",
    "    Sample Gaussian Mixture\n",
    "    :param M: num of gaussians\n",
    "    :param sigma: variance\n",
    "    :param miu_m: \n",
    "    :param N: num of samples\n",
    "    :return:\n",
    "    \"\"\"\n",
    "    sigma_2 = np.eye(2)*sigma_2\n",
    "    gauss_components = np.random.choice(M, N ,replace=True)# sample N gaussian components\n",
    "    xs= np.array([np.random.multivariate_normal(miu,sigma_2) for miu in miu_m[gauss_components]])\n",
    "    #pdf = 0\n",
    "    #for miu in miu_m:\n",
    "    #    pdf+=mv_normal.pdf(xs,miu,sigma)\n",
    "    return torch.tensor(xs)\n",
    "\n"
   ]
  },
  {
   "cell_type": "code",
   "execution_count": 434,
   "metadata": {},
   "outputs": [],
   "source": [
    "N=4\n",
    "sigma=1\n",
    "miu_m = torch.tensor([[0,0],[0,3],[3,0],[3,3]])\n",
    "J=1000\n",
    "real_samples = sample_from_gaussian_mixture(N,sigma,miu_m,J)"
   ]
  },
  {
   "cell_type": "code",
   "execution_count": 435,
   "metadata": {},
   "outputs": [],
   "source": [
    "#Task 2\n",
    "# task 8\n",
    "import torch\n",
    "def log_prob_grad(x,mus,sigma_2):\n",
    "    sum_num = 0\n",
    "    sum_denom = 0\n",
    "    for mu in mus:\n",
    "        #print(x.shape)\n",
    "        #print(mu.shape)\n",
    "        exp_arg = torch.exp(-(2*sigma_2)**(-1)*torch.norm(x-mu,dim=1)**2)\n",
    "        sum_num += ((x-mu).T* exp_arg)\n",
    "        sum_denom +=exp_arg\n",
    "        \n",
    "    grad = -(sigma_2)**(-1)*sum_num/sum_denom\n",
    "    #print('grad shape' , grad.shape)\n",
    "    return grad.T\n",
    "    \n",
    "    \n",
    "def q_x_prime_given_x(x_prime,x,grad_log_x,eps):\n",
    "    q = torch.exp(-1/(4*eps)*torch.norm(x_prime-x-eps*grad_log_x)**2)\n",
    "    return q\n",
    "\n",
    "def MALA_update(x_k,p_x_k,grad_x_k,sqrt_two_eps,mus,sigma_2):\n",
    "    eps = sqrt_two_eps**2/2\n",
    "    ### Check acceptance criteria:\n",
    "    #norm = normal.MultivariateNormal(torch.zeros(image_size,image_size),torch.eye(image_size))\n",
    "    samples = torch.randn((len(x_k),2))#.to(device)\n",
    "    #print(\"sa\",samples.shape)\n",
    "    #print(\"gra\",grad_x_k.shape)\n",
    "    #print(\"x_k\",x_k.shape)\n",
    "    x_k_plus_1 = x_k + ((sqrt_two_eps**2)/2)*grad_x_k + sqrt_two_eps * samples\n",
    "    p_x_k_plus_1 = pdf_gaussian_mixture(x_k_plus_1,mus,sigma)\n",
    "    grad_x_k_plus_1 = log_prob_grad(x_k,mus,sigma_2)\n",
    "\n",
    "    is_accepted = p_x_k_plus_1>p_x_k\n",
    "    only_accepted_x_k_plus_1 = x_k_plus_1[is_accepted]\n",
    "    not_accepted_x_k_plus_1 = x_k_plus_1[~is_accepted]\n",
    "    \n",
    "    ### replace x_k_plus_1 with x_k with probability alpha:\n",
    "    if len(not_accepted_x_k_plus_1)>0:\n",
    "        \n",
    "        q_x_k_given_x_k_plus_1 = q_x_prime_given_x(x_k,x_k_plus_1,grad_x_k_plus_1,eps)\n",
    "        q_x_k_plus_1_given_x_k = q_x_prime_given_x(x_k_plus_1,x_k,grad_x_k,eps)\n",
    "        \n",
    "        alpha = p_x_k_plus_1*q_x_k_given_x_k_plus_1/(p_x_k*q_x_k_plus_1_given_x_k)\n",
    "        alpha_not_accepted = alpha[~is_accepted]\n",
    "        \n",
    "        u = torch.rand(len(not_accepted_x_k_plus_1))#.to(device)\n",
    "        \n",
    "        is_accepted_after_MALA =  ( u<=alpha_not_accepted )\n",
    "        \n",
    "        accepted_after_MALA_x_k_plus_1 = not_accepted_x_k_plus_1[is_accepted_after_MALA]\n",
    "        x_k_remain_after_MALA = (x_k[~is_accepted])[~is_accepted_after_MALA]\n",
    "        #print(len(accepted_after_MALA_x_k_plus_1) ,' were accepted after MALA')\n",
    "        #not_accepted_after_MALA = not_accepted[~is_accepted_after_MALA]\n",
    "        x_k_plus_1_final = torch.concat((only_accepted_x_k_plus_1,accepted_after_MALA_x_k_plus_1,x_k_remain_after_MALA))\n",
    "    else:\n",
    "        #print('all accepted')\n",
    "        x_k_plus_1_final = x_k_plus_1 # all samples got updated.\n",
    "        \n",
    "    return x_k_plus_1_final\n",
    "\n",
    "def pdf_gaussian_mixture(x,mus,sigma_2):\n",
    "    pdf = 0\n",
    "    for mu in mus:\n",
    "        pdf+=mv_normal.pdf(x,mu,sigma_2)\n",
    "    return torch.tensor(pdf/len(mus))\n",
    "                                       \n",
    "# number of images to generate\n",
    "def ld_with_MALA(L,sqrt_two_eps,init_samples,mus,sigma_2):\n",
    "    \"\"\"\n",
    "    Sample with MALA\n",
    "    :L: chain length\n",
    "    :sqrt_two_eps:\n",
    "    :init_samples: initial guess\n",
    "    :mus: expectation of gaussian mixture\n",
    "    \"\"\"\n",
    "    x_k = init_samples\n",
    "    eps = (sqrt_two_eps**2)/2\n",
    "    # norm = normal.MultivariateNormal(torch.zeros(image_size,image_size),torch.eye(image_size))\n",
    "    p_x_k = pdf_gaussian_mixture(x_k,mus,sigma_2)\n",
    "    grad_x_k = log_prob_grad(x_k,mus,sigma_2)\n",
    "    \n",
    "    for l in range(L):\n",
    "        # run the model: input the images x, getting as output their estimated energy E(x)\n",
    "        x_k= MALA_update(x_k,p_x_k,\n",
    "                         grad_x_k,\n",
    "                         sqrt_two_eps,\n",
    "                         mus,\n",
    "                         sigma_2\n",
    "                        )\n",
    "        p_x_k = pdf_gaussian_mixture(x_k,mus,sigma_2)\n",
    "        grad_x_k = log_prob_grad(x_k,mus,sigma_2)\n",
    "\n",
    "        #if (l%200 == 0):\n",
    "        #   print('MALA: Iteration {0} completed'.format(l))\n",
    "        #_all_x.append(x_k[0])\n",
    "    return x_k\n"
   ]
  },
  {
   "cell_type": "markdown",
   "metadata": {},
   "source": [
    "#### Estimation of $\\{\\mu_i\\}$"
   ]
  },
  {
   "cell_type": "markdown",
   "metadata": {},
   "source": [
    "<img src=\"https://img.icons8.com/offices/80/000000/making-notes.png\" style=\"height:30px;display:inline\\\">**<span style=\"color:red\">Task 3</span>**. Implement Maximum likelihood (ML) estimation of $\\{\\mu_i\\}$ using direct sampling:\n",
    "* Step 1: Randomly initialize $\\{\\tilde \\mu_i\\}$ from $U([0,3]^2)$.\n",
    "* Step 2: Use your function from Task 1 to draw 100 samples ${\\tilde x}$ from $p(x;\\{\\mu_i\\})$ using $\\{\\tilde \\mu_i\\}$.\n",
    "* Step 3: Update $\\{\\tilde \\mu_i\\}$ using the ML gradient descent step:\n",
    "$$ \\tilde \\mu_i ^ {k+1} = \\tilde \\mu_i ^ {k} + \\eta\\left(\\langle \\nabla_{\\mu_i} \\log p(x;\\{\\mu_i\\})\\rangle_{x}-\\langle \\nabla_{\\mu_i} \\log p(x;\\{\\mu_i\\})\\rangle_{\\tilde x}\\right),$$\n",
    "where $\\langle\\cdot\\rangle_x$ denotes averaging over the real samples from Task 1 and $\\langle\\cdot\\rangle_{\\tilde x}$ denotes averaging over the synthetically generated samples from Step 2. Use $\\eta = 1$.\n",
    "* Repeat Step 2 and Step 3 until convergence."
   ]
  },
  {
   "cell_type": "code",
   "execution_count": 436,
   "metadata": {},
   "outputs": [
    {
     "name": "stdout",
     "output_type": "stream",
     "text": [
      "MLE: Iteration 0\n",
      "MLE: Iteration 200\n",
      "MLE: Iteration 400\n",
      "MLE: Iteration 600\n",
      "MLE: Iteration 800\n",
      "tensor([[ 2.9890,  0.0047],\n",
      "        [-0.0551, -0.0648],\n",
      "        [-0.0459,  2.8775],\n",
      "        [ 3.0809,  3.0405]], dtype=torch.float64)\n"
     ]
    }
   ],
   "source": [
    "def log_prob_grad_mu(x,mus,sigma_2):\n",
    "    N = len(mus)\n",
    "    sum_num = 0\n",
    "    sum_denom = 0\n",
    "    #for i,mu in enumerate(mus):\n",
    "        #exp_arg[i,:] = torch.exp(-(2*sigma_2)**(-1)*torch.norm(x-mu,dim=1)**2)\n",
    "    mus= mus.reshape(N,1,2)\n",
    "    exp_args = torch.exp(-(2*sigma_2)**(-1)*torch.norm(x-mus,dim=2)**2)\n",
    "    sum_denom = torch.sum(exp_args,dim=0)\n",
    "    grad = (sigma_2)**(-1)*exp_args*((x-mus).permute(2,0,1))/sum_denom\n",
    "    mus = mus.reshape(N,2)\n",
    "\n",
    "    #print('grad sum' , torch.sum(grad))\n",
    "    return grad.permute(1,2,0)\n",
    "\n",
    "eta = 1\n",
    "N=4 #num of mus\n",
    "mus_init_guess = torch.rand(N,2)*3.\n",
    "sqrt_two_eps = 0.1\n",
    "num_of_samples = 100\n",
    "#init_samples = torch.rand(num_of_samples,2)\n",
    "#x_tilda = ld_with_MALA(L,sqrt_two_eps,init_samples,mus_init_guess,sigma)\n",
    "sigma_2 = 1\n",
    "mus = mus_init_guess\n",
    "max_iteration = 1000\n",
    "\n",
    "prev_mus=0\n",
    "loss = []\n",
    "for i in range(max_iteration):\n",
    "    x_tilda = sample_from_gaussian_mixture(N,sigma_2,mus,num_of_samples)\n",
    "    mus = mus + eta*(torch.mean(log_prob_grad_mu(real_samples,mus,sigma_2),dim=1)-torch.mean(log_prob_grad_mu(x_tilda,mus,sigma_2),dim=1))\n",
    "    loss.append(torch.norm(prev_mus - mus))\n",
    "    if torch.norm(prev_mus - mus) < 0.01:\n",
    "        break\n",
    "    prev_mus = mus\n",
    "    if (i%200 == 0):\n",
    "        print('MLE: Iteration {0}'.format(i))\n",
    "\n",
    "\n",
    "print(mus)\n",
    "mus_ML = mus"
   ]
  },
  {
   "cell_type": "code",
   "execution_count": 437,
   "metadata": {},
   "outputs": [
    {
     "data": {
      "text/plain": [
       "[<matplotlib.lines.Line2D at 0x7f83d9cee4f0>]"
      ]
     },
     "execution_count": 437,
     "metadata": {},
     "output_type": "execute_result"
    },
    {
     "data": {
      "image/png": "[encoded data removed]",
      "text/plain": [
       "<Figure size 432x288 with 1 Axes>"
      ]
     },
     "metadata": {},
     "output_type": "display_data"
    }
   ],
   "source": [
    "from matplotlib import pyplot as plt\n",
    "loss = torch.tensor(loss)\n",
    "plt.plot(torch.log(loss))"
   ]
  },
  {
   "cell_type": "code",
   "execution_count": 438,
   "metadata": {},
   "outputs": [],
   "source": [
    "# def log_prob_grad_mu_vec(x,mus,sigma_2):\n",
    "#     N = len(mus)\n",
    "#     sum_num = 0\n",
    "#     sum_denom = 0\n",
    "#     #for i,mu in enumerate(mus):\n",
    "#         #exp_arg[i,:] = torch.exp(-(2*sigma_2)**(-1)*torch.norm(x-mu,dim=1)**2)\n",
    "#     mus= mus.reshape(N,1,2)\n",
    "#     exp_args = torch.exp(-(2*sigma_2)**(-1)*torch.norm(x-mus,dim=2)**2)\n",
    "#     sum_denom = torch.sum(exp_args,dim=0)\n",
    "#     grad = (sigma_2)**(-1)*exp_args*((x-mus).permute(2,0,1))/sum_denom\n",
    "#     mus = mus.reshape(N,2)\n",
    "\n",
    "#     #print('grad shape' , grad.shape)\n",
    "#     return grad.permute(1,2,0)\n",
    "\n",
    "# def log_prob_grad_mu_not_vec(x,mus,sigma_2):\n",
    "#     N = len(mus)\n",
    "#     sum_num = 0\n",
    "#     sum_denom = 0\n",
    "#     exp_arg = torch.zeros(N,len(x))\n",
    "#     nums = torch.zeros(N,2,len(x))\n",
    "#     for i,mu in enumerate(mus):\n",
    "#         exp_arg[i,:] = torch.exp(-(2*sigma_2)**(-1)*torch.norm(x-mu,dim=1)**2)\n",
    "#         nums[i,:,:] = ((x-mu).T * exp_arg[i,:])\n",
    "\n",
    "#     sum_denom = torch.sum(exp_arg,dim=0)\n",
    "#     grad = (sigma_2)**(-1)*nums/sum_denom\n",
    "#     mus = mus.reshape(N,2)\n",
    "\n",
    "#     #print('grad shape' , grad.shape)\n",
    "#     return grad.permute(0,2,1)\n",
    "\n",
    "\n",
    "# def log_prob_grad_mu(x,mus,sigma_2):\n",
    "# a = torch.zeros_like(x)\n",
    "# for mu in mus:\n",
    "#     for x_ in x:\n",
    "#         torch.norm(x_-mu)**2\n",
    "# mus = mus_init_guess\n",
    "# a=log_prob_grad_mu_vec(real_samples,mus,sigma_2)\n",
    "# b=log_prob_grad_mu_not_vec(real_samples,mus,sigma_2)"
   ]
  },
  {
   "cell_type": "markdown",
   "metadata": {},
   "source": [
    "<img src=\"https://img.icons8.com/offices/80/000000/making-notes.png\" style=\"height:30px;display:inline\\\">**<span style=\"color:red\">Task 4</span>**. Implement Maximum likelihood (ML) estimation of $\\{\\mu_i\\}$ using MCMC:\n",
    "* Step 1: Randomly initialize $\\{\\tilde \\mu_i\\}$ from $U([0,3]^2)$.\n",
    "* Step 2: Use your function from Task 2 to draw 100 samples ${\\tilde x}$ from $p(x;\\{\\mu_i\\})$ using $\\{\\tilde \\mu_i\\}$. Initialize the chains with $\\hat x_i \\sim \\mathcal{N}(1.5,2)$ and use chains length of $L=1000$.\n",
    "* Step 3: Update $\\{\\tilde \\mu_i\\}$ using the ML gradient descent step:\n",
    "$$ \\tilde \\mu_i ^ {k+1} = \\tilde \\mu_i ^ {k} + \\eta\\left(\\langle \\nabla_{\\mu_i} \\log p(x;\\{\\mu_i\\})\\rangle_{x}-\\langle \\nabla_{\\mu_i} \\log p(x;\\{\\mu_i\\})\\rangle_{\\tilde x}\\right),$$\n",
    "where $\\langle\\cdot\\rangle_x$ denotes averaging over the real samples from Task 1 and $\\langle\\cdot\\rangle_{\\tilde x}$ denotes averaging over the synthetically generated samples from Step 2. Use $\\eta = 1$.\n",
    "* Repeat Step 2 and Step 3 until convergence."
   ]
  },
  {
   "cell_type": "code",
   "execution_count": null,
   "metadata": {},
   "outputs": [
    {
     "name": "stdout",
     "output_type": "stream",
     "text": [
      "MLE: Iteration 0\n",
      "MLE: Iteration 200\n",
      "MLE: Iteration 400\n"
     ]
    }
   ],
   "source": [
    "### define parameters for MCMC samples ###\n",
    "sigma_2_x = torch.tensor(2)\n",
    "mu_x = 1.5\n",
    "L=1000\n",
    "num_of_samples = 100\n",
    "sqrt_two_eps = 0.1\n",
    "x_tilda = torch.randn(num_of_samples,2)*torch.sqrt(sigma_2_x) + mu_x #initial guess for chain\n",
    "# gaussian mixture params:\n",
    "sigma_2 = 1\n",
    "mus = torch.rand(N,2)*3. # initial guess for mus\n",
    "######################################\n",
    "\n",
    "### define parameters for ML estimation ###\n",
    "max_iteration =1000\n",
    "######################################\n",
    "\n",
    "### Run until convergence ###\n",
    "for i in range(max_iteration):\n",
    "    x_tilda = ld_with_MALA(L,sqrt_two_eps,x_tilda,mus_init_guess,sigma_2)\n",
    "    mus = mus + eta*(torch.mean(log_prob_grad_mu(real_samples,mus,sigma_2),dim=1)-torch.mean(log_prob_grad_mu(x_tilda,mus,sigma_2),dim=1))\n",
    "    if torch.norm(prev_mus - mus) < 0.1:\n",
    "        break\n",
    "    prev_mus = mus\n",
    "    if (i%200 == 0):\n",
    "           print('MLE: Iteration {0}'.format(i))\n",
    "print(mus)\n",
    "mus_ML_MCMC = mus"
   ]
  },
  {
   "cell_type": "markdown",
   "metadata": {},
   "source": [
    "<img src=\"https://img.icons8.com/offices/80/000000/making-notes.png\" style=\"height:30px;display:inline\\\">**<span style=\"color:red\">Task 5</span>**. Implement Contrastive Divergence (CD) estimation of $\\{\\mu_i\\}$ using MCMC sampling:\n",
    "* Step 1: Randomly initialize $\\{\\tilde \\mu_i\\}$ from $U([0,3]^2)$.\n",
    "* Step 2: Use your function from Task 2 to draw 100 samples ${\\tilde x}$ from $p(x;\\{\\mu_i\\})$ using $\\{\\tilde \\mu_i\\}$. Initialize the chains with **100 samples randomly chosen from the real set of examples from Task 1**, and use only $L=10$ update steps.\n",
    "* Step 3: Update $\\{\\tilde \\mu_i\\}$ using the CD gradient descent step:\n",
    "$$ \\tilde \\mu_i ^ {k+1} = \\tilde \\mu_i ^ {k} + \\eta\\left(\\langle \\nabla_{\\mu_i} \\log p(x;\\{\\mu_i\\})\\rangle_{x}-\\langle \\nabla_{\\mu_i} \\log p(x;\\{\\mu_i\\})\\rangle_{\\tilde x}\\right),$$\n",
    "where $\\langle\\cdot\\rangle_x$ denotes averaging over the $100$ real samples used for initialization of the chains in Step 2 and $\\langle\\cdot\\rangle_{\\tilde x}$ denotes averaging over the MCMC generated samples from Step 3. Use $\\eta = 1$.\n",
    "* Repeat Step 2 and Step 3 until convergence."
   ]
  },
  {
   "cell_type": "code",
   "execution_count": null,
   "metadata": {},
   "outputs": [],
   "source": [
    "### define parameters for MCMC samples ###\n",
    "L=10\n",
    "num_of_samples = 100\n",
    "sqrt_two_eps = 0.1\n",
    "x_tilda = real_samples[torch.randint(0,nunum_of_samplesf_samples,num_of_samples)]\n",
    "# gaussian mixture params:\n",
    "sigma_2 = 1\n",
    "mus = torch.rand(N,2)*3. # initial guess for mus\n",
    "######################################\n",
    "\n",
    "### define parameters for ML estimation ###\n",
    "max_iteration = 1000\n",
    "######################################\n",
    "\n",
    "### Run until convergence ###\n",
    "for i in range(max_iteration):\n",
    "    x_tilda = ld_with_MALA(L,sqrt_two_eps,x_tilda,mus_init_guess,sigma_2)\n",
    "    mus = mus + eta*(torch.mean(log_prob_grad_mu(real_samples,mus,sigma_2),dim=1)-torch.mean(log_prob_grad_mu(x_tilda,mus,sigma_2),dim=1))\n",
    "    if torch.norm(prev_mus - mus) < 0.01:\n",
    "        break\n",
    "    prev_mus = mus\n",
    "    if (i%200 == 0):\n",
    "           print('MLE: Iteration {0}'.format(i))\n",
    "print(mus)"
   ]
  },
  {
   "cell_type": "markdown",
   "metadata": {},
   "source": [
    "<img src=\"https://img.icons8.com/offices/80/000000/making-notes.png\" style=\"height:30px;display:inline\\\">**<span style=\"color:red\">Task 6</span>**.\n",
    "Present the estimated $\\{\\mu_i\\}$ and the final random samples $\\{\\tilde x_i\\}$ generated with each of the three algorithms in Tasks 3-5. Discuss the differences in convergence."
   ]
  },
  {
   "cell_type": "code",
   "execution_count": null,
   "metadata": {},
   "outputs": [],
   "source": []
  },
  {
   "cell_type": "markdown",
   "metadata": {
    "id": "6BxH6tQygjiN"
   },
   "source": [
    "## Part II: Noise Contrastive Estimation (50 points)"
   ]
  },
  {
   "cell_type": "markdown",
   "metadata": {},
   "source": [
    "Consider the distribution\n",
    "$$p_m(x;\\{\\mu_i\\}) = \\frac{1}{Z} \\sum_{i=1}^{N} \\exp\\left\\{-\\frac{1}{2\\sigma^2}||x-\\mu_i||^2\\right\\} ,$$\t\n",
    "where $Z \\in \\mathbb{R}$ is a normalization constant, and $ x,\\mu_i \\in \\mathbb{R}^2$."
   ]
  },
  {
   "cell_type": "markdown",
   "metadata": {},
   "source": [
    "#### Sampling from GMM"
   ]
  },
  {
   "cell_type": "markdown",
   "metadata": {},
   "source": [
    "<img src=\"https://img.icons8.com/offices/80/000000/making-notes.png\" style=\"height:30px;display:inline\\\">**<span style=\"color:red\">Task 7</span>**. What is the value of $Z$?\n",
    "\n",
    "<img src=\"https://img.icons8.com/offices/80/000000/making-notes.png\" style=\"height:30px;display:inline\\\">**<span style=\"color:red\">Task 8</span>**. Use $N = 4$, $\\sigma = 1$, and $\\{\\mu_i\\} = \\{(0,0)^T , (0,3)^T , (3,0)^T , (3,3)^T\\} $. Draw $J=1000$ samples $\\{x_j\\}$ from the distribution $p_m(x;\\{\\mu_i\\})$ using the function from Task 1.\n",
    "\n",
    "**From now on**, we will refer to **$\\{\\mu_i\\}$ as unknowns** and we will estimate them using the Noise Contrastive Estimation method."
   ]
  },
  {
   "cell_type": "code",
   "execution_count": 416,
   "metadata": {},
   "outputs": [],
   "source": [
    "#task 7+8\n",
    "N=4\n",
    "sigma_2=1\n",
    "miu_m = torch.tensor([[0,0],[0,3],[3,0],[3,3]])\n",
    "J=1000\n",
    "\n",
    "Z_real = 2*np.pi*N*sigma_2\n",
    "real_samples = sample_from_gaussian_mixture(N,sigma_2,miu_m,J)"
   ]
  },
  {
   "cell_type": "markdown",
   "metadata": {},
   "source": [
    "#### Estimation of $\\{\\mu_i\\}$"
   ]
  },
  {
   "cell_type": "markdown",
   "metadata": {},
   "source": [
    "<img src=\"https://img.icons8.com/offices/80/000000/making-notes.png\" style=\"height:30px;display:inline\\\">**<span style=\"color:red\">Task 9</span>**. Implement Noise Contrastive Estimation of $\\{\\mu_i\\}$:\n",
    "* Step 1: Generating the artificial data-set of noise: Draw $J=1000$ samples $\\{y_j\\}$ from $$p_n(y;\\mu_n) = \\frac{1}{{{2\\pi \\sigma_n^2}}} \\exp\\left\\{-\\frac{1}{2\\sigma_n^2}||y-\\mu_n||^2\\right\\}$$\n",
    "  using $\\mu_n = (1,1)^T$ and $\\sigma_n=2$.\n",
    "* Step 2: Randomly select an initial guess for the model means $\\{\\tilde \\mu_i\\}$ from $U([0,3]^2)$.\n",
    "* Step 3: Update $\\{\\tilde \\mu_i\\}$ by **maximizing**:\n",
    "$$\\{\\tilde \\mu_i\\} = \\underset{\\{\\mu_i\\}}{\\arg\\max} \\, \\sum_{j=1}^{J} \\left[\\ln (h(x_j;\\{\\mu_i\\})) + \\ln(1-h(y_j;\\{\\mu_i\\})) \\right],$$\n",
    "where\n",
    "$$h(u;\\{\\mu_i\\}) = \\frac{p_m(u;\\{\\mu_i\\})}{p_m(u;\\{\\mu_i\\})+p_n(u;\\mu_n)}.$$\n",
    "  Implementation Tip: This step can be executed using the function `scipy.optimize.minimize` which finds the **minimum** of an (unconstrained) optimization problem (e.g. using the `'BFGS'` method), given a function that calculates the objective and an initial guess (see scipy documentation for more details). In our case, for **maximization**, implement a function that calculates the **minus** of the objective above."
   ]
  },
  {
   "cell_type": "code",
   "execution_count": 417,
   "metadata": {},
   "outputs": [],
   "source": [
    "import scipy\n",
    "\n",
    "def p_m_pdf(u,mus,sigma_2):\n",
    "    pdf = 0\n",
    "    mus = mus.reshape(4,2)\n",
    "    for miu in mus:\n",
    "        pdf+=mv_normal.pdf(u,miu,sigma_2)\n",
    "    return pdf/(len(mus)*2*np.pi*sigma_2)\n",
    "\n",
    "def p_n_pdf(u,mu_n,sigma_n_2):\n",
    "    return mv_normal.pdf(u, mu_n , sigma_n_2)\n",
    "\n",
    "def h(u,mus,mu_n,sigma_n_2,sigma_2):\n",
    "    p_m = p_m_pdf(u, mus, sigma_2)\n",
    "    p_n = p_n_pdf(u,mu_n,sigma_n_2)\n",
    "    h_i = p_m/(p_m+p_n)\n",
    "    return h_i\n",
    "\n",
    "def func_to_optim_task_9(mus,x,y,mu_n,sigma_n_2,sigma_2):\n",
    "    s = -np.sum(np.log(h(x,mus,mu_n,sigma_n_2,sigma_2))+np.log(1-h(y,mus,mu_n,sigma_n_2,sigma_2)))\n",
    "    return s\n",
    "\n",
    "# def task_9(J):\n",
    "#     \"\"\"\n",
    "#     task_9 - Noise Contrastive Estimation with un-normalized model\n",
    "#     :param J: num of samples\n",
    "#     :return:\n",
    "#     \"\"\"\n",
    "\n",
    "### define params for p_m\n",
    "mus_initial_guess_task_9 = torch.rand(N,2)*3. # initial guess for mus\n",
    "mus = mus_initial_guess_task_9\n",
    "\n",
    "###  define params for samples y:\n",
    "J=1000\n",
    "mu_n = torch.tensor([1.,1.])\n",
    "sigma_n = 2\n",
    "sigma_n_2 = sigma_n**2\n",
    "num_of_samples= J #num of samples\n",
    "samples_y_task_9 = mv_normal.rvs(mu_n,sigma_n_2,num_of_samples)\n",
    "samples_y = samples_y_task_9\n",
    "\n",
    "x = real_samples\n",
    "y = samples_y\n",
    "\n",
    "res = scipy.optimize.minimize(func_to_optim_task_9,mus,(x,y,mu_n,sigma_n_2,sigma_2))\n",
    "mus_task_9 = res['x'].reshape(4,2)\n",
    "    #return mus_task_9\n",
    "\n"
   ]
  },
  {
   "cell_type": "markdown",
   "metadata": {},
   "source": [
    "We will now regard both $\\{\\mu_i\\}$ **and the normalization constant $Z$** as unknowns, and will estimate them using Noise Contrastive"
   ]
  },
  {
   "cell_type": "markdown",
   "metadata": {},
   "source": [
    "<img src=\"https://img.icons8.com/offices/80/000000/making-notes.png\" style=\"height:30px;display:inline\\\">**<span style=\"color:red\">Task 10</span>**. Implement Noise Contrastive Estimation with an **un-normalized** probability model:\n",
    "* Step 1: Generating the artificial data-set of noise: Draw $J=1000$ samples $\\{y_j\\}$ from $$p_n(y;\\mu_n) = \\frac{1}{{{2\\pi \\sigma_n^2}}} \\exp\\left\\{-\\frac{1}{2\\sigma_n^2}||y-\\mu_n||^2\\right\\}$$\n",
    "  using $\\mu_n = (1,1)^T$ and $\\sigma_n=2$.\n",
    "* Step 2: Randomly select an initial guess for the model means $\\{\\tilde \\mu_i\\}$ from $U([0,3]^2)$, and for the normalization constant $Z$ from $U([0.1,1])$\n",
    "* Step 3: Update $\\{\\tilde \\mu_i\\}$ and $Z$ by **maximizing**:\n",
    "$$\\{\\tilde \\mu_i\\}, Z = \\underset{\\{\\mu_i\\}, Z}{\\arg\\max} \\, \\sum_{j=1}^{J} \\left[\\ln (h(x_j;\\{\\mu_i\\}, Z)) + \\ln(1-h(y_j;\\{\\mu_i\\}, Z)) \\right],$$\n",
    "where\n",
    "$$h(u;\\{\\mu_i\\}, Z) = \\frac{p_m(u;\\{\\mu_i\\}, Z)}{p_m(u;\\{\\mu_i\\}, Z)+p_n(u;\\mu_n)}.$$"
   ]
  },
  {
   "cell_type": "code",
   "execution_count": 418,
   "metadata": {},
   "outputs": [],
   "source": [
    "def p_m_pdf_z(u,mus,sigma_2,Z):\n",
    "    pdf = 0\n",
    "    mus = mus.reshape(4,2)\n",
    "    for miu in mus:\n",
    "        #protect numeric error\n",
    "        try:\n",
    "            pdf+=mv_normal.pdf(u,miu,sigma_2)\n",
    "        except:\n",
    "            pdf+=0\n",
    "    return pdf/Z\n",
    "\n",
    "def h_z(u,mus,mu_n,sigma_n_2,Z):\n",
    "    p_m = p_m_pdf_z(u, mus, sigma_2,Z)\n",
    "    p_n = p_n_pdf(u,mu_n,sigma_n)\n",
    "    h_i = p_m/(p_m+p_n)\n",
    "    return h_i\n",
    "\n",
    "def func_to_optim_task_10(params,x,y,mu_n,sigma_n_2):\n",
    "    #parse params\n",
    "    mus = params[0:8].reshape(4,2)\n",
    "    Z = params[8]\n",
    "    s = -np.sum(np.log(h_z(x,mus,mu_n,sigma_n_2,Z))+np.log(1-h_z(y,mus,mu_n,sigma_n_2,Z)))\n",
    "    return s\n",
    "\n",
    "# def task_10(J):\n",
    "#     \"\"\"\n",
    "#     task_10 - Noise Contrastive Estimation with un-normalized model\n",
    "#     :param J: num of samples\n",
    "#     :return:\n",
    "#     \"\"\"\n",
    "\n",
    "\n",
    "###  define params for samples y:\n",
    "J=1000\n",
    "mu_n = torch.tensor([1.,1.])\n",
    "sigma_n = 2\n",
    "sigma_n_2 = sigma_n**2\n",
    "num_of_samples= J \n",
    "samples_y_task_10 =  mv_normal.rvs(mu_n,sigma_n_2,num_of_samples)\n",
    "samples_y = samples_y_task_10\n",
    "\n",
    "### define params for p_m\n",
    "mus_initial_guess_task_10 = torch.rand(N,2)*3. # initial guess for mus\n",
    "mus = mus_initial_guess_task_10\n",
    "Z = torch.rand(1)*(1-0.1)+0.1\n",
    "sigma_2 = 1\n",
    "\n",
    "x = real_samples\n",
    "y = samples_y\n",
    "\n",
    "params = torch.concat((mus.reshape(8),Z))\n",
    "res = scipy.optimize.minimize(func_to_optim_task_10,params,(x,y,mu_n,sigma_n_2))\n",
    "mus_task_10 = res['x'][0:8].reshape(4,2)\n",
    "Z = res['x'][8]\n",
    "\n",
    "#return mus_task_10, Z"
   ]
  },
  {
   "cell_type": "markdown",
   "metadata": {},
   "source": [
    "#### Evaluating the Results"
   ]
  },
  {
   "cell_type": "markdown",
   "metadata": {},
   "source": [
    "<img src=\"https://img.icons8.com/offices/80/000000/making-notes.png\" style=\"height:30px;display:inline\\\">**<span style=\"color:red\">Task 11</span>**. Visually: plot the estimates of $\\{\\mu_i\\}$ of Tasks 9 and 10 (two separate figures). Include the model samples, the noise samples, the initial guess for the model means, and the final estimates of $\\{\\tilde \\mu_i\\}$."
   ]
  },
  {
   "cell_type": "code",
   "execution_count": 419,
   "metadata": {},
   "outputs": [
    {
     "data": {
      "text/plain": [
       "<matplotlib.legend.Legend at 0x7f83da6bc550>"
      ]
     },
     "execution_count": 419,
     "metadata": {},
     "output_type": "execute_result"
    },
    {
     "data": {
      "image/png": "[encoded data removed]",
      "text/plain": [
       "<Figure size 432x288 with 1 Axes>"
      ]
     },
     "metadata": {},
     "output_type": "display_data"
    }
   ],
   "source": [
    "from matplotlib import pyplot as plt\n",
    "\n",
    "fig = plt.figure()\n",
    "plt.scatter(real_samples[:,0],real_samples[:,1],s=5,c='m')\n",
    "plt.scatter(samples_y_task_9[:,0],samples_y_task_9[:,1],s=5,c='c')\n",
    "plt.scatter(mus_initial_guess_task_9[:,0],mus_initial_guess_task_9[:,1],marker='x',s=5,linewidth=20,c='k')\n",
    "plt.scatter(mus_task_9[:,0],mus_task_9[:,1],marker='x',s=5,linewidth=20,c='r')\n",
    "plt.scatter(miu_m[:,0],miu_m[:,1],marker='o',s=5,linewidth=20,c='b')\n",
    "plt.legend(('Real samples','Noise Samples','{$\\mu_i$} initial guess','Estimated ${\\mu_i}$','Ground Truth'),loc='lower right',facecolor='w')\n"
   ]
  },
  {
   "cell_type": "code",
   "execution_count": 420,
   "metadata": {},
   "outputs": [
    {
     "data": {
      "text/plain": [
       "<matplotlib.legend.Legend at 0x7f83da166760>"
      ]
     },
     "execution_count": 420,
     "metadata": {},
     "output_type": "execute_result"
    },
    {
     "data": {
      "image/png": "[encoded data removed]",
      "text/plain": [
       "<Figure size 432x288 with 1 Axes>"
      ]
     },
     "metadata": {},
     "output_type": "display_data"
    }
   ],
   "source": [
    "fig = plt.figure()\n",
    "plt.scatter(real_samples[:,0],real_samples[:,1],s=5,c='m')\n",
    "plt.scatter(samples_y_task_10[:,0],samples_y_task_10[:,1],s=5,c='c')\n",
    "plt.scatter(mus_initial_guess_task_10[:,0],mus_initial_guess_task_10[:,1],marker='x',s=5,linewidth=20,c='k')\n",
    "plt.scatter(mus_task_10[:,0],mus_task_10[:,1],marker='x',s=5,linewidth=20,c='r')\n",
    "plt.scatter(miu_m[:,0],miu_m[:,1],marker='o',s=5,linewidth=20,c='b')\n",
    "plt.legend(('Real samples','Noise Samples','{$\\mu_i$} initial guess','Estimated ${\\mu_i}$','Ground Truth'),loc='lower right',facecolor='w')\n"
   ]
  },
  {
   "cell_type": "markdown",
   "metadata": {},
   "source": [
    "<img src=\"https://img.icons8.com/offices/80/000000/making-notes.png\" style=\"height:30px;display:inline\\\">**<span style=\"color:red\">Task 12</span>**. Quantitatively: repeat Tasks 9 and 10, this time with $J = 100\\times[1,5,10,20,30,50]$. For each value of $J$ repeat the estimation process for 50 times, each time with different realizations for $\\{x_j\\}$ and $\\{y_j\\}$ and initial guesses for the estimands ($\\{\\mu_i\\}$ in Task 9 and $\\{\\mu_i\\},Z$ in Task 10. \n",
    "\n",
    "For each value of $J$, calculate the MSE between the true parameter values and their estimates (the mean will be taken over the different realizations). Note that for the model means, the MSE should be calculated to the closest true $\\mu_i$ for each estimation. If at the same run two estimated $\\mu_i$s pick the same true $\\mu_i$, then this run should be declared as a failure and should be disregarded. Report the number of failure runs."
   ]
  },
  {
   "cell_type": "code",
   "execution_count": 421,
   "metadata": {},
   "outputs": [
    {
     "name": "stdout",
     "output_type": "stream",
     "text": [
      "Results for J =  100\n",
      "MSE: [0.12788941 0.13997379 0.12659702 0.19260823]\n",
      "Failures: 0\n",
      "Results for J =  500\n",
      "MSE: [0.02738422 0.02515579 0.02416727 0.02836203]\n",
      "Failures: 0\n",
      "Results for J =  1000\n",
      "MSE: [0.01156626 0.01529182 0.01227493 0.01684423]\n",
      "Failures: 0\n",
      "Results for J =  2000\n",
      "MSE: [0.00772912 0.00697055 0.00733277 0.00628618]\n",
      "Failures: 0\n",
      "Results for J =  3000\n",
      "MSE: [0.00595556 0.00534128 0.00676148 0.0062628 ]\n",
      "Failures: 0\n",
      "Results for J =  5000\n",
      "MSE: [0.00421271 0.00454244 0.00587074 0.0040482 ]\n",
      "Failures: 0\n"
     ]
    }
   ],
   "source": [
    "J= 100*np.array([1,5,10,20,30,50]) # num of samples\n",
    "repeat= 50\n",
    "true_mus = np.array([[0,0],[0,3],[3,0],[3,3]])\n",
    "for j in J:\n",
    "    mse = 0\n",
    "    failures=0\n",
    "    for i in range(repeat):\n",
    "        ##### Code copied from Task 9 ######\n",
    "        ###  define params for samples y:\n",
    "        ### define params for p_m\n",
    "        mus_initial_guess_task_9 = torch.rand(N,2)*3. # initial guess for mus\n",
    "        mus = mus_initial_guess_task_9\n",
    "        ###  define params for samples y:\n",
    "        mu_n = torch.tensor([1.,1.])\n",
    "        sigma_n = 2\n",
    "        sigma_n_2 = sigma_n**2\n",
    "        y = mv_normal.rvs(mu_n,sigma_n_2,j)\n",
    "        x = sample_from_gaussian_mixture(N,sigma_2,miu_m,j)\n",
    "        res = scipy.optimize.minimize(func_to_optim_task_9,mus,(x,y,mu_n,sigma_n_2,sigma_2))\n",
    "        mus_task_9 = res['x'].reshape(4,2)\n",
    "        ##### end of Task 9 code ###############\n",
    "        \n",
    "        # sort results for correct comparison of mus\n",
    "        idx = np.array([np.argmin(np.linalg.norm(mu-true_mus,axis=1)) for mu in mus_task_9])\n",
    "        true_mus_sorted = true_mus[idx]\n",
    "        # check for same mus:\n",
    "        if len(np.unique(idx))<len(idx):\n",
    "            #print(\"picked same mu twice\")\n",
    "            failures+=1\n",
    "        else:\n",
    "            mse+=np.linalg.norm(mus_task_9-true_mus_sorted,axis=1)**2\n",
    "    mse = mse/repeat\n",
    "    print(\"Results for J = \",j)\n",
    "    print(\"MSE:\" ,mse)\n",
    "    print(\"Failures:\", failures)"
   ]
  },
  {
   "cell_type": "code",
   "execution_count": 422,
   "metadata": {},
   "outputs": [
    {
     "name": "stderr",
     "output_type": "stream",
     "text": [
      "/var/folders/66/yf94__bj78g__627y93jv4hr0000gn/T/ipykernel_84558/3182549695.py:22: RuntimeWarning: invalid value encountered in log\n",
      "  s = -np.sum(np.log(h_z(x,mus,mu_n,sigma_n_2,Z))+np.log(1-h_z(y,mus,mu_n,sigma_n_2,Z)))\n",
      "/var/folders/66/yf94__bj78g__627y93jv4hr0000gn/T/ipykernel_84558/3182549695.py:22: RuntimeWarning: divide by zero encountered in log\n",
      "  s = -np.sum(np.log(h_z(x,mus,mu_n,sigma_n_2,Z))+np.log(1-h_z(y,mus,mu_n,sigma_n_2,Z)))\n",
      "/Users/adiraz/miniconda3/envs/stat_methods/lib/python3.8/site-packages/scipy/optimize/_numdiff.py:557: RuntimeWarning: invalid value encountered in subtract\n",
      "  df = fun(x) - f0\n",
      "/var/folders/66/yf94__bj78g__627y93jv4hr0000gn/T/ipykernel_84558/3182549695.py:22: RuntimeWarning: invalid value encountered in log\n",
      "  s = -np.sum(np.log(h_z(x,mus,mu_n,sigma_n_2,Z))+np.log(1-h_z(y,mus,mu_n,sigma_n_2,Z)))\n",
      "/var/folders/66/yf94__bj78g__627y93jv4hr0000gn/T/ipykernel_84558/3182549695.py:22: RuntimeWarning: divide by zero encountered in log\n",
      "  s = -np.sum(np.log(h_z(x,mus,mu_n,sigma_n_2,Z))+np.log(1-h_z(y,mus,mu_n,sigma_n_2,Z)))\n",
      "/var/folders/66/yf94__bj78g__627y93jv4hr0000gn/T/ipykernel_84558/3182549695.py:22: RuntimeWarning: invalid value encountered in log\n",
      "  s = -np.sum(np.log(h_z(x,mus,mu_n,sigma_n_2,Z))+np.log(1-h_z(y,mus,mu_n,sigma_n_2,Z)))\n",
      "/var/folders/66/yf94__bj78g__627y93jv4hr0000gn/T/ipykernel_84558/3182549695.py:22: RuntimeWarning: divide by zero encountered in log\n",
      "  s = -np.sum(np.log(h_z(x,mus,mu_n,sigma_n_2,Z))+np.log(1-h_z(y,mus,mu_n,sigma_n_2,Z)))\n",
      "/Users/adiraz/miniconda3/envs/stat_methods/lib/python3.8/site-packages/scipy/optimize/_numdiff.py:557: RuntimeWarning: invalid value encountered in subtract\n",
      "  df = fun(x) - f0\n",
      "/var/folders/66/yf94__bj78g__627y93jv4hr0000gn/T/ipykernel_84558/3182549695.py:22: RuntimeWarning: invalid value encountered in log\n",
      "  s = -np.sum(np.log(h_z(x,mus,mu_n,sigma_n_2,Z))+np.log(1-h_z(y,mus,mu_n,sigma_n_2,Z)))\n",
      "/var/folders/66/yf94__bj78g__627y93jv4hr0000gn/T/ipykernel_84558/3182549695.py:22: RuntimeWarning: divide by zero encountered in log\n",
      "  s = -np.sum(np.log(h_z(x,mus,mu_n,sigma_n_2,Z))+np.log(1-h_z(y,mus,mu_n,sigma_n_2,Z)))\n",
      "/var/folders/66/yf94__bj78g__627y93jv4hr0000gn/T/ipykernel_84558/3182549695.py:22: RuntimeWarning: invalid value encountered in log\n",
      "  s = -np.sum(np.log(h_z(x,mus,mu_n,sigma_n_2,Z))+np.log(1-h_z(y,mus,mu_n,sigma_n_2,Z)))\n",
      "/var/folders/66/yf94__bj78g__627y93jv4hr0000gn/T/ipykernel_84558/3182549695.py:22: RuntimeWarning: divide by zero encountered in log\n",
      "  s = -np.sum(np.log(h_z(x,mus,mu_n,sigma_n_2,Z))+np.log(1-h_z(y,mus,mu_n,sigma_n_2,Z)))\n",
      "/Users/adiraz/miniconda3/envs/stat_methods/lib/python3.8/site-packages/scipy/optimize/_numdiff.py:557: RuntimeWarning: invalid value encountered in subtract\n",
      "  df = fun(x) - f0\n",
      "/var/folders/66/yf94__bj78g__627y93jv4hr0000gn/T/ipykernel_84558/3182549695.py:22: RuntimeWarning: invalid value encountered in log\n",
      "  s = -np.sum(np.log(h_z(x,mus,mu_n,sigma_n_2,Z))+np.log(1-h_z(y,mus,mu_n,sigma_n_2,Z)))\n",
      "/var/folders/66/yf94__bj78g__627y93jv4hr0000gn/T/ipykernel_84558/3182549695.py:22: RuntimeWarning: divide by zero encountered in log\n",
      "  s = -np.sum(np.log(h_z(x,mus,mu_n,sigma_n_2,Z))+np.log(1-h_z(y,mus,mu_n,sigma_n_2,Z)))\n"
     ]
    },
    {
     "name": "stdout",
     "output_type": "stream",
     "text": [
      "Results for J =  100\n",
      "MSE: [0.72132712 0.68701601 0.66719899 0.75918643]\n",
      "Failures: 5\n",
      "Results for J =  500\n",
      "MSE: [0.45553606 0.47668722 0.45635133 0.4720759 ]\n",
      "Failures: 2\n"
     ]
    },
    {
     "name": "stderr",
     "output_type": "stream",
     "text": [
      "/var/folders/66/yf94__bj78g__627y93jv4hr0000gn/T/ipykernel_84558/3182549695.py:22: RuntimeWarning: invalid value encountered in log\n",
      "  s = -np.sum(np.log(h_z(x,mus,mu_n,sigma_n_2,Z))+np.log(1-h_z(y,mus,mu_n,sigma_n_2,Z)))\n",
      "/var/folders/66/yf94__bj78g__627y93jv4hr0000gn/T/ipykernel_84558/3182549695.py:22: RuntimeWarning: divide by zero encountered in log\n",
      "  s = -np.sum(np.log(h_z(x,mus,mu_n,sigma_n_2,Z))+np.log(1-h_z(y,mus,mu_n,sigma_n_2,Z)))\n",
      "/Users/adiraz/miniconda3/envs/stat_methods/lib/python3.8/site-packages/scipy/optimize/_numdiff.py:557: RuntimeWarning: invalid value encountered in subtract\n",
      "  df = fun(x) - f0\n",
      "/var/folders/66/yf94__bj78g__627y93jv4hr0000gn/T/ipykernel_84558/3182549695.py:22: RuntimeWarning: invalid value encountered in log\n",
      "  s = -np.sum(np.log(h_z(x,mus,mu_n,sigma_n_2,Z))+np.log(1-h_z(y,mus,mu_n,sigma_n_2,Z)))\n",
      "/var/folders/66/yf94__bj78g__627y93jv4hr0000gn/T/ipykernel_84558/3182549695.py:22: RuntimeWarning: divide by zero encountered in log\n",
      "  s = -np.sum(np.log(h_z(x,mus,mu_n,sigma_n_2,Z))+np.log(1-h_z(y,mus,mu_n,sigma_n_2,Z)))\n"
     ]
    },
    {
     "name": "stdout",
     "output_type": "stream",
     "text": [
      "Results for J =  1000\n",
      "MSE: [0.41914639 0.46123832 0.43859909 0.54810094]\n",
      "Failures: 1\n"
     ]
    },
    {
     "name": "stderr",
     "output_type": "stream",
     "text": [
      "/var/folders/66/yf94__bj78g__627y93jv4hr0000gn/T/ipykernel_84558/3182549695.py:22: RuntimeWarning: invalid value encountered in log\n",
      "  s = -np.sum(np.log(h_z(x,mus,mu_n,sigma_n_2,Z))+np.log(1-h_z(y,mus,mu_n,sigma_n_2,Z)))\n",
      "/var/folders/66/yf94__bj78g__627y93jv4hr0000gn/T/ipykernel_84558/3182549695.py:22: RuntimeWarning: divide by zero encountered in log\n",
      "  s = -np.sum(np.log(h_z(x,mus,mu_n,sigma_n_2,Z))+np.log(1-h_z(y,mus,mu_n,sigma_n_2,Z)))\n",
      "/Users/adiraz/miniconda3/envs/stat_methods/lib/python3.8/site-packages/scipy/optimize/_numdiff.py:557: RuntimeWarning: invalid value encountered in subtract\n",
      "  df = fun(x) - f0\n",
      "/var/folders/66/yf94__bj78g__627y93jv4hr0000gn/T/ipykernel_84558/3182549695.py:22: RuntimeWarning: invalid value encountered in log\n",
      "  s = -np.sum(np.log(h_z(x,mus,mu_n,sigma_n_2,Z))+np.log(1-h_z(y,mus,mu_n,sigma_n_2,Z)))\n",
      "/var/folders/66/yf94__bj78g__627y93jv4hr0000gn/T/ipykernel_84558/3182549695.py:22: RuntimeWarning: divide by zero encountered in log\n",
      "  s = -np.sum(np.log(h_z(x,mus,mu_n,sigma_n_2,Z))+np.log(1-h_z(y,mus,mu_n,sigma_n_2,Z)))\n"
     ]
    },
    {
     "name": "stdout",
     "output_type": "stream",
     "text": [
      "Results for J =  2000\n",
      "MSE: [0.40395311 0.47880201 1.55955529 0.45425924]\n",
      "Failures: 2\n",
      "Results for J =  3000\n",
      "MSE: [0.47411694 0.45665872 0.45890521 0.43175071]\n",
      "Failures: 1\n",
      "Results for J =  5000\n",
      "MSE: [0.42128478 0.43921483 0.4182071  0.53788294]\n",
      "Failures: 1\n"
     ]
    }
   ],
   "source": [
    "J= 100*np.array([1,5,10,20,30,50]) # num of samples\n",
    "repeat= 50\n",
    "true_mus = np.array([[0,0],[0,3],[3,0],[3,3]])\n",
    "for j in J:\n",
    "    mse = 0\n",
    "    failures=0\n",
    "    for i in range(repeat):\n",
    "        ##### Code copied from Task 10 ######\n",
    "        ### define params for p_m\n",
    "        mus = torch.rand(N,2)*3. # initial guess for mus\n",
    "        \n",
    "        ###  define params for samples y:\n",
    "        mu_n = torch.tensor([1.,1.])\n",
    "        sigma_n = 2\n",
    "        sigma_n_2 = sigma_n**2\n",
    "        x = sample_from_gaussian_mixture(N,sigma_2,miu_m,j)        \n",
    "        y = mv_normal.rvs(mu_n,sigma_n_2,j)\n",
    "        Z = torch.rand(1)*(10-0.1)+0.1\n",
    "        \n",
    "        params = torch.concat((mus.reshape(8),Z)) # prepare params for scipy optimizer\n",
    "        res = scipy.optimize.minimize(func_to_optim_task_10,params,(x,y,mu_n,sigma_n_2))\n",
    "        mus_task_10 = res['x'][0:8].reshape(4,2)\n",
    "        Z = res['x'][8]\n",
    "        ##### end of Task 10 code ###############\n",
    "        \n",
    "        # sort results for correct comparison of mus\n",
    "        idx = np.array([np.argmin(np.linalg.norm(mu-true_mus,axis=1)) for mu in mus_task_10])\n",
    "        true_mus_sorted = true_mus[idx]\n",
    "        # check for same mus:\n",
    "        if len(np.unique(idx))<len(idx):\n",
    "            #print(\"picked same mu twice\")\n",
    "            failures+=1\n",
    "        else:\n",
    "            mse+=np.linalg.norm(mus_task_10-true_mus_sorted,axis=1)**2\n",
    "    mse = mse/repeat\n",
    "    print(\"Results for J = \",j)\n",
    "    print(\"MSE:\" ,mse)\n",
    "    print(\"Failures:\", failures)"
   ]
  },
  {
   "cell_type": "markdown",
   "metadata": {},
   "source": [
    "<img src=\"https://img.icons8.com/offices/80/000000/making-notes.png\" style=\"height:30px;display:inline\\\">**<span style=\"color:red\">Task 13</span>**. Discussion: How does the number of samples $J$ affect the accuracy of the estimation? How does the addition of $Z$ as an unknown affect the accuracy? "
   ]
  }
 ],
 "metadata": {
  "colab": {
   "collapsed_sections": [],
   "name": "HW1_Spring2022_Solved_Final.ipynb",
   "provenance": []
  },
  "kernelspec": {
   "display_name": "Python 3 (ipykernel)",
   "language": "python",
   "name": "python3"
  },
  "language_info": {
   "codemirror_mode": {
    "name": "ipython",
    "version": 3
   },
   "file_extension": ".py",
   "mimetype": "text/x-python",
   "name": "python",
   "nbconvert_exporter": "python",
   "pygments_lexer": "ipython3",
   "version": "3.8.13"
  }
 },
 "nbformat": 4,
 "nbformat_minor": 4
}
