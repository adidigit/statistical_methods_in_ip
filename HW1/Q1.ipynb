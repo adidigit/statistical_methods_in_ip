{
 "cells": [
  {
   "cell_type": "markdown",
   "metadata": {
    "id": "uXrAM0RgCgl8"
   },
   "source": [
    "# Statistical Methods in Image Processing EE-048954\n",
    "## Homework 1: Kernel Density Estimation and Normalizing Flows\n",
    "### Due Date: <span style=\"color:red\">May 08, 2022</span>"
   ]
  },
  {
   "cell_type": "markdown",
   "metadata": {},
   "source": [
    "###  Submission Guidelines\n",
    "\n",
    "* Submission only in **pairs** on the course website (Moodle).\n",
    "* Working environment:\n",
    "    * We encourage you to work in `Jupyter Notebook` online using <a href=\"https://colab.research.google.com/\">Google Colab</a> as it does not require any installation.\n",
    "* You should submit two **separated** files:\n",
    "    * A `.ipynb` file, with the name: `ee048954_hw1_id1_id2.ipynb` which contains your code implementations.\n",
    "    * A `.pdf` file, with the name: `ee048954_hw1_id1_id2.pdf` which is your report containing plots, answers, and discussions.\n",
    "    * **No handwritten submissions** and no other file-types (`.docx`, `.html`, ...) will be accepted."
   ]
  },
  {
   "cell_type": "markdown",
   "metadata": {
    "id": "aXYdlXNS4c6V"
   },
   "source": [
    "### Mounting your drive for saving/loading stuff"
   ]
  },
  {
   "cell_type": "code",
   "execution_count": null,
   "metadata": {
    "colab": {
     "base_uri": "https://localhost:8080/"
    },
    "id": "VtmwdpfGMmjD",
    "outputId": "bd97d2b8-531f-486b-c5f7-8ccab95baec3"
   },
   "outputs": [],
   "source": [
    "#from google.colab import drive\n",
    "#drive.mount('/content/drive')"
   ]
  },
  {
   "cell_type": "markdown",
   "metadata": {
    "id": "kXPsd-7TgsCN"
   },
   "source": [
    "### Importing relevant libraries for Part I"
   ]
  },
  {
   "cell_type": "code",
   "execution_count": null,
   "metadata": {
    "id": "XFz780qygx3J"
   },
   "outputs": [],
   "source": [
    "## Standard libraries\n",
    "import os\n",
    "import math\n",
    "import time\n",
    "import numpy as np\n",
    "import copy\n",
    "import numpy as np\n",
    "import numpy.linalg\n",
    "from scipy.stats import multivariate_normal as mv_normal\n",
    "from scipy.stats import norm\n",
    "import pandas as pd\n",
    "## Imports for plotting\n",
    "import matplotlib.pyplot as plt\n",
    "%matplotlib inline\n",
    "import matplotlib\n",
    "matplotlib.rcParams['lines.linewidth'] = 2.0\n",
    "plt.style.use('ggplot')\n",
    "np.random.seed(0)\n",
    "from scipy.signal import  convolve2d\n",
    "import seaborn as sns\n",
    "from scipy.stats import multivariate_normal\n",
    "import xarray as xr\n",
    "from pytictoc import TicToc\n",
    "import pickle"
   ]
  },
  {
   "cell_type": "markdown",
   "metadata": {
    "id": "6BxH6tQygjiN"
   },
   "source": [
    "## Part I: Kernel Density Estimation (30 points)"
   ]
  },
  {
   "cell_type": "markdown",
   "metadata": {
    "id": "f0Bo0v65a-m-"
   },
   "source": [
    "The multivariate kernel density estimate of a density $f(\\mathbf{x})$ given a set of samples $\\{\\mathbf{x}_i\\}$ is given by\n",
    "$$\\hat{f}(\\mathbf{x}) = \\frac{1}{N} \\frac{1}{|H|} \\sum_{i=1}^{N}  K(H^{-1} (\\mathbf{x}_i-\\mathbf{x})),\n",
    "$$\n",
    "where $H$ is a bandwidth matrix, $K(\\cdot)$ is the kernel and $\\{\\mathbf{x}_i\\}_{i=1}^N$ are $\\textit{i.i.d.}$ samples drawn from $f(\\mathbf{x})$.\n",
    "\n",
    "<img src=\"https://img.icons8.com/offices/80/000000/making-notes.png\" style=\"height:30px;display:inline\\\">**<span style=\"color:red\">Task 1</span>**. Consider the following density functions:\n",
    "  * Gaussian Mixture:\n",
    "  $$f(\\mathbf{x};\\sigma,\\{\\mu_i\\}) = \\frac{1}{2\\pi\\sigma^2} \\sum_{m=1}^{M} \\frac{1}{M} \\exp\\left\\{-\\frac{1}{2\\sigma^2}||\\mathbf{x}-\\mathbf{\\mu}_i||^2\\right\\} ,$$\n",
    "   with $M = 4$, $\\sigma = \\frac{1}{2}$, and $\\{\\mathbf{\\mu}_m\\} = \\{(0,0)^T , (0,2)^T , (2,0)^T , (2,2)^T\\}$.\n",
    "  * Gaussian Mixture with $M = 4$, $\\sigma = 1$, and $\\{\\mathbf{\\mu}_m\\} = \\{(0,0)^T , (0,2)^T , (2,0)^T , (2,2)^T\\} $.\n",
    "  * Spiral with $\\theta \\sim \\mathcal{U}[0,4\\pi]$ and $r|\\theta \\sim \\mathcal{N}(\\frac{\\theta}{2},0.25)$.\n",
    "  \n",
    "  For each of the three distributions above, implement a function that draws $N = 10000$ samples ${\\mathbf{x}_i}$ from $f(\\mathbf{x})$. Display the drawn samples for each distribution separately."
   ]
  },
  {
   "cell_type": "code",
   "execution_count": null,
   "metadata": {
    "collapsed": false,
    "jupyter": {
     "outputs_hidden": false
    },
    "pycharm": {
     "name": "#%%\n"
    }
   },
   "outputs": [],
   "source": [
    "def set_visualization_settings():\n",
    "    FIGURE_DPI = 300\n",
    "    SAVEFIG_DPI = 96\n",
    "    SMALL_FONT_SIZE = 14\n",
    "    MEDIUM_FONT_SIZE = 16\n",
    "    BIG_FONT_SIZE = 18\n",
    "    TITLE_FONT_SIZE = 18\n",
    "    SUPTITLE_FONT_SIZE = 22\n",
    "    COLORS = [\"darkblue\", \"darkgreen\", \"darkred\"]\n",
    "    plt.rcParams['figure.dpi'] = FIGURE_DPI\n",
    "    plt.rcParams['savefig.dpi'] = SAVEFIG_DPI\n",
    "\n",
    "\n",
    "    # Create an array with the colors to use\n",
    "    # Set a custom color palette\n",
    "    sns.set_palette(sns.color_palette(COLORS))\n",
    "\n",
    "    plt.rc('font', size=SMALL_FONT_SIZE)  # controls default text sizes\n",
    "    plt.rc('axes', titlesize=TITLE_FONT_SIZE)  # fontsize of the axes title\n",
    "    plt.rc('axes', labelsize=BIG_FONT_SIZE)  # fontsize of the x and y labels\n",
    "    plt.rc('axes', labelweight='bold')  # weight of the x and y labels\n",
    "    plt.rc('xtick', labelsize=SMALL_FONT_SIZE)  # fontsize of the tick labels\n",
    "    plt.rc('ytick', labelsize=SMALL_FONT_SIZE)  # fontsize of the tick labels\n",
    "    plt.rc('legend', fontsize=MEDIUM_FONT_SIZE)  # legend fontsize\n",
    "    plt.rc('figure', titlesize=SUPTITLE_FONT_SIZE)  # fontsize of the figure title\n",
    "    # plt.rc('text', usetex=True)\n",
    "    plt.rc('font', weight='bold')\n",
    "    plt.rcParams['text.latex.preamble'] = r'\\boldmath'\n",
    "set_visualization_settings()\n",
    "def clear_fname(fname):\n",
    "    return fname.replace('{','').replace('}','').replace('$','').replace('\\\\','').replace('rm','').replace('^','').replace(',','').replace('_',' ')\n",
    "\n",
    "def cart2pol(x, y):\n",
    "    r = np.sqrt(x**2 + y**2)\n",
    "    theta = np.arctan2(y, x)\n",
    "    #theta = np.arctan(y, x)\n",
    "    return(r, theta)\n",
    "\n",
    "def pol2cart(r, theta):\n",
    "    x = r * np.cos(theta)\n",
    "    y = r * np.sin(theta)\n",
    "    return(x, y)\n",
    "\n",
    "def sample_from_gaussian_mixture(M,sigma,miu_m,N):\n",
    "    \"\"\"\n",
    "    Sample Gaussian Mixture\n",
    "    :param M:\n",
    "    :param sigma:\n",
    "    :param miu_m:\n",
    "    :param N:\n",
    "    :return:\n",
    "    \"\"\"\n",
    "    gauss_components = np.random.choice(M, N ,replace=True)# sample N gaussian components\n",
    "    xs= np.array([np.random.multivariate_normal(miu,sigma) for miu in miu_m[gauss_components]])\n",
    "    pdf = 0\n",
    "    for miu in miu_m:\n",
    "        pdf+=mv_normal.pdf(xs,miu,sigma)\n",
    "    samples = pd.DataFrame(xs,columns=['x','y'])\n",
    "    return samples,pdf/M\n",
    "\n",
    "def sample_from_spiral_dist(sigma,N):\n",
    "    p_theta = 1/(4*np.pi)\n",
    "    tetas = np.random.uniform(low=0,high=4*np.pi,size=N)\n",
    "    rs = np.array([np.random.normal(teta/2,sigma) for teta in tetas])\n",
    "    pdf=[]\n",
    "    for teta,r in zip(tetas,rs):\n",
    "        p_r_theta = norm.pdf(r,teta/2,sigma)\n",
    "        p = p_theta *p_r_theta\n",
    "        pdf.append(p)\n",
    "\n",
    "    xs = [pol2cart(r,theta) for r,theta in zip(rs,tetas)]\n",
    "    samples = pd.DataFrame(xs,columns=['x','y'])\n",
    "    samples_rt = pd.DataFrame([[r,theta] for r,theta in zip(rs,tetas)],columns=['r','theta'])\n",
    "    return samples,pdf, samples_rt\n",
    "\n",
    "def draw_samples(samples,pdf_samples,figsize =(12, 9), s_title='samples',\n",
    "                  elev = 45, azim = 12, label_x ='x',label_y='y',label_z='z',\n",
    "                 save=False, fig_type='svg'):\n",
    "    sns.set(style = \"darkgrid\")\n",
    "    fig = plt.figure(figsize =figsize)\n",
    "    ax = plt.axes(projection ='3d')\n",
    "    values = ax.scatter3D(samples.x,samples.y,pdf_samples,c=pdf_samples,cmap='turbo',s=1)\n",
    "    clb = fig.colorbar(values, ax = ax,shrink = 0.5, aspect = 5)#, orientation=\"horizontal\")\n",
    "    clb.ax.set_title(label_z)\n",
    "    ax.view_init(elev=elev, azim=azim)\n",
    "    ax.set_xlabel(label_x)\n",
    "    ax.set_ylabel(label_y)\n",
    "    ax.zaxis.set_rotate_label(False)\n",
    "    ax.set_zlabel(label_z,rotation=90)\n",
    "    plt.tight_layout()\n",
    "    ax.set_title(s_title)\n",
    "    if save:\n",
    "        f_name= clear_fname(s_title)\n",
    "        fig_path = os.path.join(os.path.curdir, 'figures',f_name+'.'+fig_type)\n",
    "        print(f\"Saving fig to {fig_path}\")\n",
    "        plt.savefig(fig_path)\n",
    "\n",
    "    # show plot\n",
    "    plt.show()\n",
    "    return fig,ax\n",
    "\n",
    "def kernel(u):\n",
    "    return np.exp(-u**2/2)/(np.sqrt(2*np.pi))\n",
    "\n",
    "def plot_density(X,Y,Z,figsize =(15, 9), s_title='Z',\n",
    "                elev = 45, azim = 12, label_x ='x',label_y='y',label_z='z',\n",
    "                proj_offset=-0.05, samples=None, save=False, fig_type='svg', alpha=1.0):\n",
    "    # Creating figure\n",
    "    sns.set(style = \"darkgrid\")\n",
    "    fig = plt.figure(figsize =figsize)\n",
    "    ax = plt.axes(projection ='3d')\n",
    "\n",
    "    # Creating plot\n",
    "    surf = ax.plot_surface(X,Y,Z,\n",
    "                        cmap = 'turbo',\n",
    "                        edgecolor ='none',\n",
    "                        alpha = alpha)\n",
    "    clb = fig.colorbar(surf, ax = ax,shrink = 0.5, aspect = 5)\n",
    "    clb.ax.set_title(label_z)\n",
    "    ax.set_xlabel(label_x)\n",
    "    ax.set_ylabel(label_y)\n",
    "    ax.zaxis.set_rotate_label(False)\n",
    "    ax.set_zlabel(label_z,rotation=90)\n",
    "    ax.set_title(s_title)\n",
    "    if samples is not None:\n",
    "        ax.contourf(X, Y, Z, zdir='z', offset=proj_offset, cmap='turbo')\n",
    "        # Adjust the limits, ticks and view angle\n",
    "        ax.set_zlim(proj_offset,Z.max())\n",
    "        ztick = np.linspace(start=0, stop=density.max()*1.01,num=6).tolist()\n",
    "        ax.set_zticks(ztick,[f'{value:.2f}' for value in ztick])\n",
    "        if samples is not None:\n",
    "            ax.scatter(samples.x,samples.y,proj_offset,s=.05,c='white')\n",
    "    ax.view_init(elev=elev, azim=azim)\n",
    "    plt.tight_layout()\n",
    "\n",
    "    if save:\n",
    "        f_name= clear_fname(s_title)\n",
    "        fig_path = os.path.join(os.path.curdir, 'figures',f_name+'.'+fig_type)\n",
    "        print(f\"Saving fig to {fig_path}\")\n",
    "        plt.savefig(fig_path)\n",
    "\n",
    "    # show plot\n",
    "    plt.show()\n",
    "    return fig,ax\n",
    "\n",
    "def calculate_GMV_pdf(X,Y,mus, sigmas):\n",
    "    grid = np.dstack((X, Y))\n",
    "    density = np.zeros(grid.shape[0:2])\n",
    "    weight = 1/len(mus)\n",
    "    for mu,signa in zip(mus,sigmas):\n",
    "        rv = multivariate_normal(mu, sigma)\n",
    "        z_i = np.reshape(rv.pdf(grid), grid.shape[0:2])\n",
    "        density += z_i*weight\n",
    "    return density\n"
   ]
  },
  {
   "cell_type": "code",
   "execution_count": null,
   "metadata": {
    "collapsed": false,
    "jupyter": {
     "outputs_hidden": false
    },
    "pycharm": {
     "name": "#%%\n"
    }
   },
   "outputs": [],
   "source": [
    "# define grid\n",
    "xlim = [-10.0,10.0]\n",
    "ylim = [-10.0,10.0]\n",
    "nx_grid = 400j\n",
    "ny_grid = 400j\n",
    "X, Y = np.mgrid[xlim[0]:xlim[1]:nx_grid, ylim[0]:ylim[1]:ny_grid]\n",
    "\n",
    "\n",
    "fig_type='svg' # or 'png'\n",
    "save_fig=False"
   ]
  },
  {
   "cell_type": "code",
   "execution_count": null,
   "metadata": {
    "collapsed": false,
    "jupyter": {
     "outputs_hidden": false
    },
    "pycharm": {
     "name": "#%%\n"
    }
   },
   "outputs": [],
   "source": [
    "# Drawing samples of distributions\n",
    "N = 10000\n",
    "samples_1,pdf_1 = sample_from_gaussian_mixture(M=4,sigma= np.eye(2)*0.5,miu_m=np.array([[0,0],[0,2],[2,0],[2,2]]) ,N =N)\n",
    "samples_2,pdf_2= sample_from_gaussian_mixture(M=4,sigma= np.eye(2)*1. ,miu_m=np.array([[0,0],[0,2],[2,0],[2,2]]) ,N =N)\n",
    "samples_3,pdf_3,samples_rt = sample_from_spiral_dist(sigma=0.25,N=N)\n",
    "\n",
    "for ind, (samples,pdf) in enumerate(zip([samples_1,samples_2,samples_3], [pdf_1,pdf_2,pdf_3])):\n",
    "    name =rf'$f_{ind+1}$'\n",
    "    draw_samples(samples,pdf,figsize =(10, 8), s_title='samples of '+name,label_z=r'$f(x,y)$',\n",
    "                 elev = 35, azim = -40,save=save_fig,fig_type=fig_type)"
   ]
  },
  {
   "cell_type": "markdown",
   "metadata": {},
   "source": [
    "<img src=\"https://img.icons8.com/offices/80/000000/making-notes.png\" style=\"height:30px;display:inline\\\">**<span style=\"color:red\">Task 2</span>**. Implement a function that accepts samples $\\{\\mathbf{x}_i\\}$ and a bandwidth matrix $ {H}$ and estimates $\\hat{f}(\\mathbf{x})$ using multivariate kernel density estimation. Use the two-dimension separable kernel $K( {u}) = k(u_1)k(u_2)$ where $k(u)= \\frac{1}{\\sqrt{2\\pi}} \\exp \\{\\frac{-u^2}{2}\\}$."
   ]
  },
  {
   "cell_type": "code",
   "execution_count": null,
   "metadata": {
    "collapsed": false,
    "jupyter": {
     "outputs_hidden": false
    },
    "pycharm": {
     "name": "#%%\n"
    }
   },
   "outputs": [],
   "source": [
    "def KDE(X:np.ndarray,Y:np.ndarray,samples:pd.DataFrame,h:float):\n",
    "    \"\"\"\n",
    "    KDE estimation of density, assuming gaussian kernel\n",
    "    :param X: meshgrid of X\n",
    "    :param Y: meshgrid of Y\n",
    "    :param samples: pd.DataFrame with columns 'x' and 'y' for samples locations\n",
    "    :param h: Kernel bandwidth (here we assume similar bandwidth for X and Y)\n",
    "    :return: f_hat - The estimated density based on given samples\n",
    "    \"\"\"\n",
    "    d = float(samples.shape[1]) # d - dimensions of samples\n",
    "    N = float(samples.shape[0]) # N - number of samples\n",
    "\n",
    "    # calculate kernel weights using 2D histogram\n",
    "    d_x = X[1,0] - X[0, 0]\n",
    "    d_y = Y[0,1] - Y[0, 0]\n",
    "    edges_x = X[:,0]+.5*d_x\n",
    "    edges_y = Y[0,:]+.5*d_y\n",
    "    edge0_x = np.array(X[0, 0]-.5*d_x).reshape(1)\n",
    "    edge0_y = np.array(Y[0, 0]-.5*d_y).reshape(1)\n",
    "    edges_x = np.append(edge0_x,edges_x,axis=0)\n",
    "    edges_y = np.append(edge0_y,edges_y,axis=0)\n",
    "    kernel_weights, _, _ = np.histogram2d(x=samples.x, y=samples.y,\n",
    "                                            bins=(edges_x, edges_y),density=False)\n",
    "    # creating data array of weights, for debugging.\n",
    "    kernel_weights_da = xr.DataArray(data=kernel_weights,coords={'x':X[:,0],'y':Y[0,:]},attrs={'long_name':r'$N_s$'})\n",
    "\n",
    "    # setting separable kernel\n",
    "    kernel_x =kernel(X/h)\n",
    "    kernel_y =kernel(Y/h)\n",
    "    K = kernel_x*kernel_y\n",
    "    norm_factor = (h ** d) * N\n",
    "\n",
    "    # Calculate KDE using 2D convolution\n",
    "    f_hat = (1/norm_factor)*convolve2d(K, kernel_weights, mode=\"same\")\n",
    "    return f_hat, kernel_weights_da"
   ]
  },
  {
   "cell_type": "markdown",
   "metadata": {
    "id": "qk8NGBbcKClF"
   },
   "source": [
    "<img src=\"https://img.icons8.com/offices/80/000000/making-notes.png\" style=\"height:30px;display:inline\\\">**<span style=\"color:red\">Task 3</span>**. For **each** distribution, compare between $f(\\mathbf{x})$ and $\\hat{f}(\\mathbf{x})$ using the bandwidth matrices\n",
    "${H} = \\begin{pmatrix}\n",
    "\th & 0\\\\0 & h\n",
    "\t\\end{pmatrix}$ with $h = 0.1,0.5,1$. and display the estimation.\n",
    "\tDiscuss the trade-off of the choice of $h$."
   ]
  },
  {
   "cell_type": "code",
   "execution_count": null,
   "metadata": {
    "collapsed": false,
    "jupyter": {
     "outputs_hidden": false
    },
    "pycharm": {
     "name": "#%%\n"
    }
   },
   "outputs": [],
   "source": [
    "LOAD_RESULTS = False  # change to True, if you wish to skip the calculations\n",
    "KDE_fname= 'results_KDE.pickle'\n",
    "if LOAD_RESULTS:\n",
    "    print('Loading pre-calculated KDE results')\n",
    "    with open(KDE_fname, 'rb') as handle:\n",
    "        results = pickle.load(handle)\n",
    "else:\n",
    "    print('KDE estimation')\n",
    "    # Estimate KDE for different h sizes\n",
    "    BW = [.1,.5,1.0]\n",
    "    results={}\n",
    "    t = TicToc()\n",
    "    for indf,(samples) in enumerate([samples_1,samples_2,samples_3]):\n",
    "        func_name =rf'$f_{indf+1}$'\n",
    "        results_ind={}\n",
    "        for indh,(h) in enumerate(BW):\n",
    "            t.tic()\n",
    "            f_hat,kernel_weights_da = KDE(X, Y, samples,h)\n",
    "            t.toc()\n",
    "            print(f'for estimating f_{indf+1} using h={h}')\n",
    "            results_ind[rf'h{indh}']=f_hat\n",
    "        results_ind[rf'hist']=kernel_weights_da\n",
    "        results[rf'f{indf}'] = results_ind\n",
    "\n",
    "    # Save results of KDE\n",
    "    with open(KDE_fname, 'wb') as handle:\n",
    "        print('Saving KDE results')\n",
    "        pickle.dump(results, handle, protocol=pickle.HIGHEST_PROTOCOL)"
   ]
  },
  {
   "cell_type": "code",
   "execution_count": null,
   "metadata": {
    "collapsed": false,
    "jupyter": {
     "outputs_hidden": false
    },
    "pycharm": {
     "name": "#%%\n"
    }
   },
   "outputs": [],
   "source": [
    "# Plot the estimated KDE for different h sizes\n",
    "for indf,(samples) in enumerate([samples_1,samples_2,samples_3]):\n",
    "    # plot f_hat for each h\n",
    "    results_ind = results[rf'f{indf}']\n",
    "    for indh,(h) in enumerate(BW):\n",
    "        f_hat = results_ind[rf'h{indh}']\n",
    "        plot_density(X,Y,f_hat,figsize =(10, 8),\n",
    "                     s_title=fr\"$\\hat{{f}}_{indf+1}^{{\\rm KDE}}\\, for\\, h={h},\\, N={N}$\",\n",
    "                     label_z=r'$\\hat{f}(x,y)$',alpha=1.0,\n",
    "              elev = 35, azim = -40, save=save_fig, fig_type=fig_type)\n",
    "\n",
    "    # plot kernel weights (Note that these weights are similar for any h. They are related to the grid of X,Y)\n",
    "    kernel_weights_da = results_ind[rf'hist']\n",
    "    fig, ax = plt.subplots(nrows=1, ncols=1, figsize =(10,8))\n",
    "    kernel_weights_da.plot(cmap='turbo',ax=ax)\n",
    "    func_name =rf'$f_{indf+1}$'\n",
    "    title_hist = fr'2D histogram of {func_name} samples'\n",
    "    if save_fig:\n",
    "        f_name= clear_fname(title_hist)\n",
    "        fig_path = os.path.join(os.path.curdir, 'figures',f_name+'.'+fig_type)\n",
    "        print(f\"Saving fig to {fig_path}\")\n",
    "        plt.savefig(fig_path)\n",
    "    ax.set_title(title_hist)\n",
    "    plt.show()"
   ]
  },
  {
   "cell_type": "code",
   "execution_count": null,
   "metadata": {
    "collapsed": false,
    "jupyter": {
     "outputs_hidden": false
    },
    "pycharm": {
     "name": "#%%\n"
    }
   },
   "outputs": [],
   "source": [
    "# Analyse KDE results of f1\n",
    "indf=0\n",
    "# calculating f1 on a dense grid\n",
    "sigma= np.eye(2)*0.5\n",
    "sigmas= [sigma,sigma,sigma,sigma]\n",
    "mus=[[0,0],[0,2],[2,0],[2,2]]\n",
    "density = calculate_GMV_pdf(X,Y,mus, sigmas)\n",
    "title = rf'$f_{indf+1}$'\n",
    "fig, ax =plot_density(X,Y,density,figsize =(10, 8), s_title=title,\n",
    "                  elev =35, azim = -40,proj_offset=-.03, label_z=r'$f(x,y)$',\n",
    "                      samples=None,alpha=1.0,\n",
    "                      save=save_fig, fig_type=fig_type)\n",
    "\n",
    "# Comparing f1 with the resulted KDE's\n",
    "results_ind = results[rf'f{indf}']\n",
    "for indh,(h) in enumerate(BW):\n",
    "    f_hat = results_ind[rf'h{indh}']\n",
    "    f_diff = np.sqrt((density-f_hat)**2)\n",
    "    title = fr\"$\\Delta f_{indf+1} \\, for\\, h={h},\\, N={N}$\"\n",
    "    fig, ax =plot_density(X,Y,f_diff,figsize =(10, 8), s_title=title,\n",
    "                  elev =35, azim = -40,proj_offset=-.03, label_z=rf'$\\Delta f$',\n",
    "                      samples=None, alpha=1.0,\n",
    "                      save=save_fig, fig_type=fig_type)"
   ]
  },
  {
   "cell_type": "code",
   "execution_count": null,
   "metadata": {
    "collapsed": false,
    "jupyter": {
     "outputs_hidden": false
    },
    "pycharm": {
     "name": "#%%\n"
    }
   },
   "outputs": [],
   "source": [
    "# Analyse KDE results of f2\n",
    "indf=1\n",
    "# calculating f2 on a dense grid\n",
    "sigma= np.eye(2)*1\n",
    "sigmas= [sigma,sigma,sigma,sigma]\n",
    "mus=[[0,0],[0,2],[2,0],[2,2]]\n",
    "density = calculate_GMV_pdf(X,Y,mus, sigmas)\n",
    "title = rf'$f_{indf+1}$'\n",
    "fig, ax =plot_density(X,Y,density,figsize =(10, 8), s_title=title,\n",
    "                  elev =35, azim = -40,proj_offset=-.03, label_z=r'$f(x,y)$',\n",
    "                      samples=None,alpha=1.0,\n",
    "                      save=save_fig, fig_type=fig_type)\n",
    "\n",
    "# Comparing f1 with the resulted KDE's\n",
    "results_ind = results[rf'f{indf}']\n",
    "for indh,(h) in enumerate(BW):\n",
    "    f_hat = results_ind[rf'h{indh}']\n",
    "    f_diff = np.sqrt((density-f_hat)**2)\n",
    "    title = fr\"$\\Delta f_{indf+1} \\, for\\, h={h},\\, N={N}$\"\n",
    "    fig, ax =plot_density(X,Y,f_diff,figsize =(10, 8), s_title=title,\n",
    "                  elev =35, azim = -40,proj_offset=-.03, label_z=rf'$\\Delta f$',\n",
    "                      samples=None, alpha=1.0,\n",
    "                      save=save_fig, fig_type=fig_type)\n"
   ]
  },
  {
   "cell_type": "code",
   "execution_count": null,
   "metadata": {
    "collapsed": false,
    "jupyter": {
     "outputs_hidden": false
    },
    "pycharm": {
     "name": "#%%\n"
    }
   },
   "outputs": [],
   "source": [
    "# Analyse KDE results of f3 ?\n",
    "# indf=2\n",
    "# # calculating f3 on a dense grid......Not working :-/\n",
    "# R,THETA = cart2pol(X,Y)\n",
    "# THETA += np.pi\n",
    "# SIGMAs = np.ones_like(THETA)*0.25\n",
    "# THETA_ = 2*R\n",
    "# MUs = THETA/2\n",
    "# f_r_theta = np.random.normal(MUs,SIGMAs)\n",
    "# plt.imshow(f_r_theta)\n",
    "# #density = calculate_GMV_pdf(X,Y,mus, sigmas)\n",
    "# title = rf'$f_{indf+1}$'\n",
    "# fig, ax =plot_density(X,Y,density,figsize =(10, 8), s_title=title,\n",
    "#                   elev =35, azim = -40,proj_offset=-.03, label_z=r'$f(x,y)$',\n",
    "#                       samples=None,alpha=1.0,\n",
    "#                       save=save_fig, fig_type=fig_type)\n",
    "#\n",
    "# # Comparing f1 with the resulted KDE's\n",
    "# results_ind = results[rf'f{indf}']\n",
    "# for indh,(h) in enumerate(BW):\n",
    "#     f_hat = results_ind[rf'h{indh}']\n",
    "#     f_diff = np.sqrt((density-f_hat)**2)\n",
    "#     title = fr\"$\\Delta f_{indf+1} \\, for\\, h={h},\\, N={N}$\"\n",
    "#     fig, ax =plot_density(X,Y,f_diff,figsize =(10, 8), s_title=title,\n",
    "#                   elev =35, azim = -40,proj_offset=-.03, label_z=rf'$\\Delta f$',\n",
    "#                       samples=None, alpha=1.0,\n",
    "#                       save=save_fig, fig_type=fig_type)"
   ]
  },
  {
   "cell_type": "markdown",
   "metadata": {
    "id": "G_TBtd9wcTGK"
   },
   "source": [
    "<img src=\"https://img.icons8.com/offices/80/000000/making-notes.png\" style=\"height:30px;display:inline\\\">**<span style=\"color:red\">Task 4</span>**. Which of the distributions was the easiest/hardest to estimate? Why?"
   ]
  }
 ],
 "metadata": {
  "colab": {
   "collapsed_sections": [],
   "name": "HW1_Spring2022_Solved_Final.ipynb",
   "provenance": []
  },
  "kernelspec": {
   "display_name": "Python 3 (ipykernel)",
   "language": "python",
   "name": "python3"
  },
  "language_info": {
   "codemirror_mode": {
    "name": "ipython",
    "version": 3
   },
   "file_extension": ".py",
   "mimetype": "text/x-python",
   "name": "python",
   "nbconvert_exporter": "python",
   "pygments_lexer": "ipython3",
   "version": "3.8.13"
  }
 },
 "nbformat": 4,
 "nbformat_minor": 4
}
